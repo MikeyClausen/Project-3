{
 "cells": [
  {
   "cell_type": "code",
   "execution_count": 1,
   "id": "3bcb17db",
   "metadata": {},
   "outputs": [],
   "source": [
    "#Imports\n",
    "import os\n",
    "os.environ[\"OMP_NUM_THREADS\"] = '1'\n",
    "import pandas as pd\n",
    "import numpy as np"
   ]
  },
  {
   "cell_type": "markdown",
   "id": "d421c650",
   "metadata": {},
   "source": [
    "# Data imports"
   ]
  },
  {
   "cell_type": "code",
   "execution_count": 2,
   "id": "4a5b85f8",
   "metadata": {},
   "outputs": [],
   "source": [
    "title_basics='https://datasets.imdbws.com/title.basics.tsv.gz'\n",
    "title_akas='https://datasets.imdbws.com/title.akas.tsv.gz'\n",
    "title_ratings='https://datasets.imdbws.com/title.ratings.tsv.gz'"
   ]
  },
  {
   "cell_type": "code",
   "execution_count": 3,
   "id": "3e50c62b",
   "metadata": {},
   "outputs": [],
   "source": [
    "basics=pd.read_csv(title_basics,sep='\\t',low_memory=False)\n",
    "akas=pd.read_csv(title_akas,sep='\\t',low_memory=False)\n",
    "ratings=pd.read_csv(title_ratings,sep='\\t',low_memory=False)"
   ]
  },
  {
   "cell_type": "markdown",
   "id": "43585d38",
   "metadata": {},
   "source": [
    "# Filtering"
   ]
  },
  {
   "cell_type": "code",
   "execution_count": 4,
   "id": "a261e21b",
   "metadata": {
    "scrolled": true
   },
   "outputs": [],
   "source": [
    "#Filtering etc..\n",
    "akas = akas.loc[akas['region'] == 'US']\n",
    "keep = basics['tconst'].isin(akas['titleId'])\n",
    "basics = basics[keep]\n",
    "akas = akas[akas['titleId'].isin(basics['tconst'])]\n",
    "ratings = ratings[ratings['tconst'].isin(basics['tconst'])]"
   ]
  },
  {
   "cell_type": "code",
   "execution_count": 5,
   "id": "c9bd91b8",
   "metadata": {},
   "outputs": [
    {
     "data": {
      "text/html": [
       "<div>\n",
       "<style scoped>\n",
       "    .dataframe tbody tr th:only-of-type {\n",
       "        vertical-align: middle;\n",
       "    }\n",
       "\n",
       "    .dataframe tbody tr th {\n",
       "        vertical-align: top;\n",
       "    }\n",
       "\n",
       "    .dataframe thead th {\n",
       "        text-align: right;\n",
       "    }\n",
       "</style>\n",
       "<table border=\"1\" class=\"dataframe\">\n",
       "  <thead>\n",
       "    <tr style=\"text-align: right;\">\n",
       "      <th></th>\n",
       "      <th>tconst</th>\n",
       "      <th>titleType</th>\n",
       "      <th>primaryTitle</th>\n",
       "      <th>originalTitle</th>\n",
       "      <th>isAdult</th>\n",
       "      <th>startYear</th>\n",
       "      <th>endYear</th>\n",
       "      <th>runtimeMinutes</th>\n",
       "      <th>genres</th>\n",
       "    </tr>\n",
       "  </thead>\n",
       "  <tbody>\n",
       "    <tr>\n",
       "      <th>0</th>\n",
       "      <td>tt0000001</td>\n",
       "      <td>short</td>\n",
       "      <td>Carmencita</td>\n",
       "      <td>Carmencita</td>\n",
       "      <td>0</td>\n",
       "      <td>1894</td>\n",
       "      <td>\\N</td>\n",
       "      <td>1</td>\n",
       "      <td>Documentary,Short</td>\n",
       "    </tr>\n",
       "    <tr>\n",
       "      <th>1</th>\n",
       "      <td>tt0000002</td>\n",
       "      <td>short</td>\n",
       "      <td>Le clown et ses chiens</td>\n",
       "      <td>Le clown et ses chiens</td>\n",
       "      <td>0</td>\n",
       "      <td>1892</td>\n",
       "      <td>\\N</td>\n",
       "      <td>5</td>\n",
       "      <td>Animation,Short</td>\n",
       "    </tr>\n",
       "    <tr>\n",
       "      <th>4</th>\n",
       "      <td>tt0000005</td>\n",
       "      <td>short</td>\n",
       "      <td>Blacksmith Scene</td>\n",
       "      <td>Blacksmith Scene</td>\n",
       "      <td>0</td>\n",
       "      <td>1893</td>\n",
       "      <td>\\N</td>\n",
       "      <td>1</td>\n",
       "      <td>Comedy,Short</td>\n",
       "    </tr>\n",
       "    <tr>\n",
       "      <th>5</th>\n",
       "      <td>tt0000006</td>\n",
       "      <td>short</td>\n",
       "      <td>Chinese Opium Den</td>\n",
       "      <td>Chinese Opium Den</td>\n",
       "      <td>0</td>\n",
       "      <td>1894</td>\n",
       "      <td>\\N</td>\n",
       "      <td>1</td>\n",
       "      <td>Short</td>\n",
       "    </tr>\n",
       "    <tr>\n",
       "      <th>6</th>\n",
       "      <td>tt0000007</td>\n",
       "      <td>short</td>\n",
       "      <td>Corbett and Courtney Before the Kinetograph</td>\n",
       "      <td>Corbett and Courtney Before the Kinetograph</td>\n",
       "      <td>0</td>\n",
       "      <td>1894</td>\n",
       "      <td>\\N</td>\n",
       "      <td>1</td>\n",
       "      <td>Short,Sport</td>\n",
       "    </tr>\n",
       "    <tr>\n",
       "      <th>...</th>\n",
       "      <td>...</td>\n",
       "      <td>...</td>\n",
       "      <td>...</td>\n",
       "      <td>...</td>\n",
       "      <td>...</td>\n",
       "      <td>...</td>\n",
       "      <td>...</td>\n",
       "      <td>...</td>\n",
       "      <td>...</td>\n",
       "    </tr>\n",
       "    <tr>\n",
       "      <th>10011566</th>\n",
       "      <td>tt9916560</td>\n",
       "      <td>tvMovie</td>\n",
       "      <td>March of Dimes Presents: Once Upon a Dime</td>\n",
       "      <td>March of Dimes Presents: Once Upon a Dime</td>\n",
       "      <td>0</td>\n",
       "      <td>1963</td>\n",
       "      <td>\\N</td>\n",
       "      <td>58</td>\n",
       "      <td>Family</td>\n",
       "    </tr>\n",
       "    <tr>\n",
       "      <th>10011595</th>\n",
       "      <td>tt9916620</td>\n",
       "      <td>movie</td>\n",
       "      <td>The Copeland Case</td>\n",
       "      <td>The Copeland Case</td>\n",
       "      <td>0</td>\n",
       "      <td>\\N</td>\n",
       "      <td>\\N</td>\n",
       "      <td>\\N</td>\n",
       "      <td>Drama</td>\n",
       "    </tr>\n",
       "    <tr>\n",
       "      <th>10011633</th>\n",
       "      <td>tt9916702</td>\n",
       "      <td>short</td>\n",
       "      <td>Loving London: The Playground</td>\n",
       "      <td>Loving London: The Playground</td>\n",
       "      <td>0</td>\n",
       "      <td>\\N</td>\n",
       "      <td>\\N</td>\n",
       "      <td>\\N</td>\n",
       "      <td>Drama,Short</td>\n",
       "    </tr>\n",
       "    <tr>\n",
       "      <th>10011656</th>\n",
       "      <td>tt9916756</td>\n",
       "      <td>short</td>\n",
       "      <td>Pretty Pretty Black Girl</td>\n",
       "      <td>Pretty Pretty Black Girl</td>\n",
       "      <td>0</td>\n",
       "      <td>2019</td>\n",
       "      <td>\\N</td>\n",
       "      <td>\\N</td>\n",
       "      <td>Short</td>\n",
       "    </tr>\n",
       "    <tr>\n",
       "      <th>10011660</th>\n",
       "      <td>tt9916764</td>\n",
       "      <td>short</td>\n",
       "      <td>38</td>\n",
       "      <td>38</td>\n",
       "      <td>0</td>\n",
       "      <td>2018</td>\n",
       "      <td>\\N</td>\n",
       "      <td>\\N</td>\n",
       "      <td>Short</td>\n",
       "    </tr>\n",
       "  </tbody>\n",
       "</table>\n",
       "<p>1365141 rows × 9 columns</p>\n",
       "</div>"
      ],
      "text/plain": [
       "             tconst titleType                                 primaryTitle  \\\n",
       "0         tt0000001     short                                   Carmencita   \n",
       "1         tt0000002     short                       Le clown et ses chiens   \n",
       "4         tt0000005     short                             Blacksmith Scene   \n",
       "5         tt0000006     short                            Chinese Opium Den   \n",
       "6         tt0000007     short  Corbett and Courtney Before the Kinetograph   \n",
       "...             ...       ...                                          ...   \n",
       "10011566  tt9916560   tvMovie    March of Dimes Presents: Once Upon a Dime   \n",
       "10011595  tt9916620     movie                            The Copeland Case   \n",
       "10011633  tt9916702     short                Loving London: The Playground   \n",
       "10011656  tt9916756     short                     Pretty Pretty Black Girl   \n",
       "10011660  tt9916764     short                                           38   \n",
       "\n",
       "                                        originalTitle isAdult startYear  \\\n",
       "0                                          Carmencita       0      1894   \n",
       "1                              Le clown et ses chiens       0      1892   \n",
       "4                                    Blacksmith Scene       0      1893   \n",
       "5                                   Chinese Opium Den       0      1894   \n",
       "6         Corbett and Courtney Before the Kinetograph       0      1894   \n",
       "...                                               ...     ...       ...   \n",
       "10011566    March of Dimes Presents: Once Upon a Dime       0      1963   \n",
       "10011595                            The Copeland Case       0        \\N   \n",
       "10011633                Loving London: The Playground       0        \\N   \n",
       "10011656                     Pretty Pretty Black Girl       0      2019   \n",
       "10011660                                           38       0      2018   \n",
       "\n",
       "         endYear runtimeMinutes             genres  \n",
       "0             \\N              1  Documentary,Short  \n",
       "1             \\N              5    Animation,Short  \n",
       "4             \\N              1       Comedy,Short  \n",
       "5             \\N              1              Short  \n",
       "6             \\N              1        Short,Sport  \n",
       "...          ...            ...                ...  \n",
       "10011566      \\N             58             Family  \n",
       "10011595      \\N             \\N              Drama  \n",
       "10011633      \\N             \\N        Drama,Short  \n",
       "10011656      \\N             \\N              Short  \n",
       "10011660      \\N             \\N              Short  \n",
       "\n",
       "[1365141 rows x 9 columns]"
      ]
     },
     "execution_count": 5,
     "metadata": {},
     "output_type": "execute_result"
    }
   ],
   "source": [
    "basics"
   ]
  },
  {
   "cell_type": "code",
   "execution_count": 6,
   "id": "4b4399b6",
   "metadata": {},
   "outputs": [],
   "source": [
    "#Replacing \\\\N with np.NaN\n",
    "basics.replace({'\\\\N':np.NaN},inplace=True)\n",
    "akas.replace({'\\\\N':np.NaN},inplace=True)\n",
    "ratings.replace({'\\\\N':np.NaN},inplace=True)"
   ]
  },
  {
   "cell_type": "code",
   "execution_count": 7,
   "id": "7f611fec",
   "metadata": {},
   "outputs": [
    {
     "data": {
      "text/plain": [
       "60      39234\n",
       "30      36778\n",
       "5       25006\n",
       "10      24003\n",
       "7       22539\n",
       "        ...  \n",
       "834         1\n",
       "2580        1\n",
       "1620        1\n",
       "1271        1\n",
       "462         1\n",
       "Name: runtimeMinutes, Length: 703, dtype: int64"
      ]
     },
     "execution_count": 7,
     "metadata": {},
     "output_type": "execute_result"
    }
   ],
   "source": [
    "basics['runtimeMinutes'].value_counts()"
   ]
  },
  {
   "cell_type": "code",
   "execution_count": 8,
   "id": "38caf069",
   "metadata": {},
   "outputs": [
    {
     "data": {
      "text/plain": [
       "Index(['tconst', 'titleType', 'primaryTitle', 'originalTitle', 'isAdult',\n",
       "       'startYear', 'endYear', 'runtimeMinutes', 'genres'],\n",
       "      dtype='object')"
      ]
     },
     "execution_count": 8,
     "metadata": {},
     "output_type": "execute_result"
    }
   ],
   "source": [
    "basics.columns"
   ]
  },
  {
   "cell_type": "code",
   "execution_count": 9,
   "id": "808e2ad7",
   "metadata": {},
   "outputs": [
    {
     "data": {
      "text/plain": [
       "array(['1', '5', '45', '2', '0', nan, '3', '100', '6', '4', '11', '10',\n",
       "       '13', '15', '21', '16', '8', '14', '12', '7', '9', '17', '70',\n",
       "       '90', '120', '44', '20', '38', '25', '50', '22', '35', '42', '18',\n",
       "       '30', '51', '52', '60', '36', '26', '24', '53', '41', '48', '47',\n",
       "       '34', '19', '33', '28', '29', '71', '23', '46', '32', '85', '40',\n",
       "       '27', '150', '300', '121', '31', '43', '69', '56', '54', '61',\n",
       "       '39', '55', '57', '110', '88', '86', '170', '72', '78', '75',\n",
       "       '450', '148', '80', '37', '124', '220', '59', '68', '63', '112',\n",
       "       '1428', '84', '65', '74', '105', '310', '73', '81', '199', '139',\n",
       "       '99', '109', '58', '82', '67', '195', '440', '77', '49', '79',\n",
       "       '62', '66', '250', '421', '360', '180', '93', '64', '163', '400',\n",
       "       '95', '140', '116', '320', '125', '97', '138', '350', '374', '92',\n",
       "       '330', '91', '108', '87', '136', '600', '117', '410', '76', '418',\n",
       "       '223', '489', '102', '200', '98', '96', '119', '122', '115', '166',\n",
       "       '101', '238', '106', '111', '172', '167', '130', '107', '94',\n",
       "       '248', '104', '145', '235', '89', '131', '83', '242', '128', '143',\n",
       "       '137', '183', '210', '133', '135', '417', '103', '141', '153',\n",
       "       '132', '129', '123', '144', '155', '151', '114', '113', '179',\n",
       "       '260', '230', '160', '118', '142', '185', '380', '156', '127',\n",
       "       '215', '213', '147', '266', '152', '217', '226', '134', '194',\n",
       "       '240', '225', '216', '227', '231', '157', '218', '246', '243',\n",
       "       '279', '208', '228', '229', '212', '236', '306', '257', '245',\n",
       "       '197', '255', '219', '323', '305', '328', '269', '176', '232',\n",
       "       '258', '256', '281', '303', '290', '308', '224', '294', '252',\n",
       "       '268', '126', '204', '298', '299', '264', '149', '211', '302',\n",
       "       '263', '265', '205', '237', '285', '293', '267', '247', '165',\n",
       "       '241', '289', '283', '270', '251', '184', '278', '196', '261',\n",
       "       '275', '280', '244', '146', '177', '154', '189', '169', '284',\n",
       "       '295', '201', '221', '159', '192', '207', '164', '193', '287',\n",
       "       '171', '161', '181', '315', '182', '162', '239', '173', '158',\n",
       "       '174', '178', '168', '190', '175', '186', '188', '191', '234',\n",
       "       '453', '378', '203', '253', '344', '540', '476', '451', '202',\n",
       "       '890', '390', '340', '187', '669', '566', '317', '770', '198',\n",
       "       '288', '382', '1335', '588', '750', '442', '333', '1256', '780',\n",
       "       '510', '475', '271', '480', '420', '291', '309', '840', '931',\n",
       "       '676', '547', '673', '394', '301', '233', '381', '659', '504',\n",
       "       '282', '720', '460', '883', '385', '313', '778', '413', '402',\n",
       "       '272', '222', '924', '391', '396', '561', '428', '307', '304',\n",
       "       '570', '569', '371', '415', '870', '572', '407', '375', '1271',\n",
       "       '355', '353', '357', '384', '1620', '358', '335', '680', '398',\n",
       "       '606', '206', '322', '834', '1140', '522', '273', '361', '439',\n",
       "       '327', '316', '623', '537', '416', '341', '650', '314', '277',\n",
       "       '366', '672', '700', '702', '660', '356', '583', '312', '343',\n",
       "       '336', '1120', '1500', '209', '594', '321', '286', '485', '1800',\n",
       "       '376', '1440', '491', '776', '214', '369', '345', '254', '276',\n",
       "       '960', '535', '395', '544', '5220', '877', '389', '464', '296',\n",
       "       '629', '689', '793', '352', '2925', '348', '608', '2880', '1084',\n",
       "       '550', '701', '530', '274', '551', '262', '311', '545', '500',\n",
       "       '579', '408', '552', '715', '580', '325', '331', '730', '1973',\n",
       "       '765', '2001', '1000', '2002', '2000', '1999', '1997', '372',\n",
       "       '338', '598', '334', '441', '1932', '520', '466', '538', '4800',\n",
       "       '3900', '1380', '434', '1290', '1170', '392', '1020', '249', '379',\n",
       "       '900', '519', '259', '469', '1200', '1320', '351', '490', '467',\n",
       "       '339', '403', '370', '373', '346', '388', '426', '422', '383',\n",
       "       '507', '319', '297', '368', '2160', '494', '342', '446', '516',\n",
       "       '364', '1250', '13319', '292', '1325', '584', '573', '624', '427',\n",
       "       '35791', '367', '479', '1845', '362', '354', '663', '575', '429',\n",
       "       '435', '473', '576', '329', '332', '468', '785', '586', '499',\n",
       "       '359', '534', '554', '437', '449', '496', '518', '363', '539',\n",
       "       '399', '512', '950', '409', '443', '448', '619', '337', '324',\n",
       "       '529', '444', '318', '675', '568', '459', '397', '412', '542',\n",
       "       '347', '401', '2580', '326', '1080', '961', '964', '1860', '509',\n",
       "       '484', '901', '546', '7200', '493', '652', '508', '425', '528',\n",
       "       '430', '2010', '502', '751', '761', '1050', '845', '853', '513',\n",
       "       '2400', '990', '1669', '525', '406', '472', '865', '445', '970',\n",
       "       '393', '12000', '463', '447', '565', '3720', '642', '465', '2252',\n",
       "       '724', '54321', '387', '1260', '613', '411', '696', '758', '557',\n",
       "       '719', '501', '640', '481', '912', '424', '404', '703', '1584',\n",
       "       '455', '536', '532', '625', '940', '795', '1470', '43200', '747',\n",
       "       '1005', '487', '438', '431', '1151', '740', '549', '386', '377',\n",
       "       '349', '1207', '3240', '1068', '474', '607', '452', '478', '1559',\n",
       "       '958', '630', '959', '810', '492', '470', '1044', '454', '1616',\n",
       "       '2070', '593', '923', '789', '436', '483', '4162', '477', '697',\n",
       "       '1228', '482', '2015', '527', '773', '526', '1439', '1329', '432',\n",
       "       '599', '954', '5760', '746', '486', '2800', '458', '461', '51420',\n",
       "       '495', '614', '1750', '808', '2112', '556', '716', '590', '462'],\n",
       "      dtype=object)"
      ]
     },
     "execution_count": 9,
     "metadata": {},
     "output_type": "execute_result"
    }
   ],
   "source": [
    "basics['runtimeMinutes'].unique()"
   ]
  },
  {
   "cell_type": "code",
   "execution_count": 10,
   "id": "2ef1edb9",
   "metadata": {
    "scrolled": true
   },
   "outputs": [],
   "source": [
    "# TO numeric, then astype string for runtime minutes.\n",
    "basics['runtimeMinutes']= pd.to_numeric(basics['runtimeMinutes'],errors='coerce').astype(str)\n",
    "#Dropping NaN values\n",
    "basics['runtimeMinutes'].replace({'nan':np.NaN},inplace=True)\n",
    "basics=basics.dropna(subset=['runtimeMinutes'])"
   ]
  },
  {
   "cell_type": "code",
   "execution_count": 11,
   "id": "a38d78d4",
   "metadata": {},
   "outputs": [
    {
     "data": {
      "text/plain": [
       "array(['1.0', '5.0', '45.0', '2.0', '0.0', '3.0', '100.0', '6.0', '4.0',\n",
       "       '11.0', '10.0', '13.0', '15.0', '21.0', '16.0', '8.0', '14.0',\n",
       "       '12.0', '7.0', '9.0', '17.0', '70.0', '90.0', '120.0', '44.0',\n",
       "       '20.0', '38.0', '25.0', '50.0', '22.0', '35.0', '42.0', '18.0',\n",
       "       '30.0', '51.0', '52.0', '60.0', '36.0', '26.0', '24.0', '53.0',\n",
       "       '41.0', '48.0', '47.0', '34.0', '19.0', '33.0', '28.0', '29.0',\n",
       "       '71.0', '23.0', '46.0', '32.0', '85.0', '40.0', '27.0', '150.0',\n",
       "       '300.0', '121.0', '31.0', '43.0', '69.0', '56.0', '54.0', '61.0',\n",
       "       '39.0', '55.0', '57.0', '110.0', '88.0', '86.0', '170.0', '72.0',\n",
       "       '78.0', '75.0', '450.0', '148.0', '80.0', '37.0', '124.0', '220.0',\n",
       "       '59.0', '68.0', '63.0', '112.0', '1428.0', '84.0', '65.0', '74.0',\n",
       "       '105.0', '310.0', '73.0', '81.0', '199.0', '139.0', '99.0',\n",
       "       '109.0', '58.0', '82.0', '67.0', '195.0', '440.0', '77.0', '49.0',\n",
       "       '79.0', '62.0', '66.0', '250.0', '421.0', '360.0', '180.0', '93.0',\n",
       "       '64.0', '163.0', '400.0', '95.0', '140.0', '116.0', '320.0',\n",
       "       '125.0', '97.0', '138.0', '350.0', '374.0', '92.0', '330.0',\n",
       "       '91.0', '108.0', '87.0', '136.0', '600.0', '117.0', '410.0',\n",
       "       '76.0', '418.0', '223.0', '489.0', '102.0', '200.0', '98.0',\n",
       "       '96.0', '119.0', '122.0', '115.0', '166.0', '101.0', '238.0',\n",
       "       '106.0', '111.0', '172.0', '167.0', '130.0', '107.0', '94.0',\n",
       "       '248.0', '104.0', '145.0', '235.0', '89.0', '131.0', '83.0',\n",
       "       '242.0', '128.0', '143.0', '137.0', '183.0', '210.0', '133.0',\n",
       "       '135.0', '417.0', '103.0', '141.0', '153.0', '132.0', '129.0',\n",
       "       '123.0', '144.0', '155.0', '151.0', '114.0', '113.0', '179.0',\n",
       "       '260.0', '230.0', '160.0', '118.0', '142.0', '185.0', '380.0',\n",
       "       '156.0', '127.0', '215.0', '213.0', '147.0', '266.0', '152.0',\n",
       "       '217.0', '226.0', '134.0', '194.0', '240.0', '225.0', '216.0',\n",
       "       '227.0', '231.0', '157.0', '218.0', '246.0', '243.0', '279.0',\n",
       "       '208.0', '228.0', '229.0', '212.0', '236.0', '306.0', '257.0',\n",
       "       '245.0', '197.0', '255.0', '219.0', '323.0', '305.0', '328.0',\n",
       "       '269.0', '176.0', '232.0', '258.0', '256.0', '281.0', '303.0',\n",
       "       '290.0', '308.0', '224.0', '294.0', '252.0', '268.0', '126.0',\n",
       "       '204.0', '298.0', '299.0', '264.0', '149.0', '211.0', '302.0',\n",
       "       '263.0', '265.0', '205.0', '237.0', '285.0', '293.0', '267.0',\n",
       "       '247.0', '165.0', '241.0', '289.0', '283.0', '270.0', '251.0',\n",
       "       '184.0', '278.0', '196.0', '261.0', '275.0', '280.0', '244.0',\n",
       "       '146.0', '177.0', '154.0', '189.0', '169.0', '284.0', '295.0',\n",
       "       '201.0', '221.0', '159.0', '192.0', '207.0', '164.0', '193.0',\n",
       "       '287.0', '171.0', '161.0', '181.0', '315.0', '182.0', '162.0',\n",
       "       '239.0', '173.0', '158.0', '174.0', '178.0', '168.0', '190.0',\n",
       "       '175.0', '186.0', '188.0', '191.0', '234.0', '453.0', '378.0',\n",
       "       '203.0', '253.0', '344.0', '540.0', '476.0', '451.0', '202.0',\n",
       "       '890.0', '390.0', '340.0', '187.0', '669.0', '566.0', '317.0',\n",
       "       '770.0', '198.0', '288.0', '382.0', '1335.0', '588.0', '750.0',\n",
       "       '442.0', '333.0', '1256.0', '780.0', '510.0', '475.0', '271.0',\n",
       "       '480.0', '420.0', '291.0', '309.0', '840.0', '931.0', '676.0',\n",
       "       '547.0', '673.0', '394.0', '301.0', '233.0', '381.0', '659.0',\n",
       "       '504.0', '282.0', '720.0', '460.0', '883.0', '385.0', '313.0',\n",
       "       '778.0', '413.0', '402.0', '272.0', '222.0', '924.0', '391.0',\n",
       "       '396.0', '561.0', '428.0', '307.0', '304.0', '570.0', '569.0',\n",
       "       '371.0', '415.0', '870.0', '572.0', '407.0', '375.0', '1271.0',\n",
       "       '355.0', '353.0', '357.0', '384.0', '1620.0', '358.0', '335.0',\n",
       "       '680.0', '398.0', '606.0', '206.0', '322.0', '834.0', '1140.0',\n",
       "       '522.0', '273.0', '361.0', '439.0', '327.0', '316.0', '623.0',\n",
       "       '537.0', '416.0', '341.0', '650.0', '314.0', '277.0', '366.0',\n",
       "       '672.0', '700.0', '702.0', '660.0', '356.0', '583.0', '312.0',\n",
       "       '343.0', '336.0', '1120.0', '1500.0', '209.0', '594.0', '321.0',\n",
       "       '286.0', '485.0', '1800.0', '376.0', '1440.0', '491.0', '776.0',\n",
       "       '214.0', '369.0', '345.0', '254.0', '276.0', '960.0', '535.0',\n",
       "       '395.0', '544.0', '5220.0', '877.0', '389.0', '464.0', '296.0',\n",
       "       '629.0', '689.0', '793.0', '352.0', '2925.0', '348.0', '608.0',\n",
       "       '2880.0', '1084.0', '550.0', '701.0', '530.0', '274.0', '551.0',\n",
       "       '262.0', '311.0', '545.0', '500.0', '579.0', '408.0', '552.0',\n",
       "       '715.0', '580.0', '325.0', '331.0', '730.0', '1973.0', '765.0',\n",
       "       '2001.0', '1000.0', '2002.0', '2000.0', '1999.0', '1997.0',\n",
       "       '372.0', '338.0', '598.0', '334.0', '441.0', '1932.0', '520.0',\n",
       "       '466.0', '538.0', '4800.0', '3900.0', '1380.0', '434.0', '1290.0',\n",
       "       '1170.0', '392.0', '1020.0', '249.0', '379.0', '900.0', '519.0',\n",
       "       '259.0', '469.0', '1200.0', '1320.0', '351.0', '490.0', '467.0',\n",
       "       '339.0', '403.0', '370.0', '373.0', '346.0', '388.0', '426.0',\n",
       "       '422.0', '383.0', '507.0', '319.0', '297.0', '368.0', '2160.0',\n",
       "       '494.0', '342.0', '446.0', '516.0', '364.0', '1250.0', '13319.0',\n",
       "       '292.0', '1325.0', '584.0', '573.0', '624.0', '427.0', '35791.0',\n",
       "       '367.0', '479.0', '1845.0', '362.0', '354.0', '663.0', '575.0',\n",
       "       '429.0', '435.0', '473.0', '576.0', '329.0', '332.0', '468.0',\n",
       "       '785.0', '586.0', '499.0', '359.0', '534.0', '554.0', '437.0',\n",
       "       '449.0', '496.0', '518.0', '363.0', '539.0', '399.0', '512.0',\n",
       "       '950.0', '409.0', '443.0', '448.0', '619.0', '337.0', '324.0',\n",
       "       '529.0', '444.0', '318.0', '675.0', '568.0', '459.0', '397.0',\n",
       "       '412.0', '542.0', '347.0', '401.0', '2580.0', '326.0', '1080.0',\n",
       "       '961.0', '964.0', '1860.0', '509.0', '484.0', '901.0', '546.0',\n",
       "       '7200.0', '493.0', '652.0', '508.0', '425.0', '528.0', '430.0',\n",
       "       '2010.0', '502.0', '751.0', '761.0', '1050.0', '845.0', '853.0',\n",
       "       '513.0', '2400.0', '990.0', '1669.0', '525.0', '406.0', '472.0',\n",
       "       '865.0', '445.0', '970.0', '393.0', '12000.0', '463.0', '447.0',\n",
       "       '565.0', '3720.0', '642.0', '465.0', '2252.0', '724.0', '54321.0',\n",
       "       '387.0', '1260.0', '613.0', '411.0', '696.0', '758.0', '557.0',\n",
       "       '719.0', '501.0', '640.0', '481.0', '912.0', '424.0', '404.0',\n",
       "       '703.0', '1584.0', '455.0', '536.0', '532.0', '625.0', '940.0',\n",
       "       '795.0', '1470.0', '43200.0', '747.0', '1005.0', '487.0', '438.0',\n",
       "       '431.0', '1151.0', '740.0', '549.0', '386.0', '377.0', '349.0',\n",
       "       '1207.0', '3240.0', '1068.0', '474.0', '607.0', '452.0', '478.0',\n",
       "       '1559.0', '958.0', '630.0', '959.0', '810.0', '492.0', '470.0',\n",
       "       '1044.0', '454.0', '1616.0', '2070.0', '593.0', '923.0', '789.0',\n",
       "       '436.0', '483.0', '4162.0', '477.0', '697.0', '1228.0', '482.0',\n",
       "       '2015.0', '527.0', '773.0', '526.0', '1439.0', '1329.0', '432.0',\n",
       "       '599.0', '954.0', '5760.0', '746.0', '486.0', '2800.0', '458.0',\n",
       "       '461.0', '51420.0', '495.0', '614.0', '1750.0', '808.0', '2112.0',\n",
       "       '556.0', '716.0', '590.0', '462.0'], dtype=object)"
      ]
     },
     "execution_count": 11,
     "metadata": {},
     "output_type": "execute_result"
    }
   ],
   "source": [
    "basics['runtimeMinutes'].unique()"
   ]
  },
  {
   "cell_type": "code",
   "execution_count": 12,
   "id": "53d13a95",
   "metadata": {},
   "outputs": [
    {
     "data": {
      "text/plain": [
       "9180"
      ]
     },
     "execution_count": 12,
     "metadata": {},
     "output_type": "execute_result"
    }
   ],
   "source": [
    "basics['genres'].isna().sum()"
   ]
  },
  {
   "cell_type": "code",
   "execution_count": 13,
   "id": "67595f12",
   "metadata": {},
   "outputs": [],
   "source": [
    "#Drop NaN values\n",
    "basics=basics.dropna(subset=['genres'])"
   ]
  },
  {
   "cell_type": "code",
   "execution_count": 14,
   "id": "d6425ff7",
   "metadata": {},
   "outputs": [
    {
     "data": {
      "text/plain": [
       "0"
      ]
     },
     "execution_count": 14,
     "metadata": {},
     "output_type": "execute_result"
    }
   ],
   "source": [
    "basics['genres'].isna().sum()"
   ]
  },
  {
   "cell_type": "code",
   "execution_count": 15,
   "id": "a861dba4",
   "metadata": {},
   "outputs": [
    {
     "data": {
      "text/plain": [
       "array(['Documentary,Short', 'Animation,Short', 'Comedy,Short', ...,\n",
       "       'History,Reality-TV,War', 'Mystery,Reality-TV,Thriller',\n",
       "       'Animation,Short,Talk-Show'], dtype=object)"
      ]
     },
     "execution_count": 15,
     "metadata": {},
     "output_type": "execute_result"
    }
   ],
   "source": [
    "basics['genres'].unique()"
   ]
  },
  {
   "cell_type": "code",
   "execution_count": 16,
   "id": "0770d49a",
   "metadata": {},
   "outputs": [],
   "source": [
    "#Filter by Documentary\n",
    "basics=basics[~basics['genres'].str.contains('Documentary')]"
   ]
  },
  {
   "cell_type": "code",
   "execution_count": 17,
   "id": "91f5c5d1",
   "metadata": {},
   "outputs": [
    {
     "data": {
      "text/plain": [
       "array(['Animation,Short', 'Comedy,Short', 'Short', ...,\n",
       "       'History,Reality-TV,War', 'Mystery,Reality-TV,Thriller',\n",
       "       'Animation,Short,Talk-Show'], dtype=object)"
      ]
     },
     "execution_count": 17,
     "metadata": {},
     "output_type": "execute_result"
    }
   ],
   "source": [
    "basics['genres'].unique()"
   ]
  },
  {
   "cell_type": "code",
   "execution_count": 18,
   "id": "09917f3f",
   "metadata": {},
   "outputs": [
    {
     "data": {
      "text/plain": [
       "short           243815\n",
       "movie           162547\n",
       "tvEpisode       161710\n",
       "video            91116\n",
       "tvSeries         33380\n",
       "tvMovie          17600\n",
       "tvSpecial         8057\n",
       "tvMiniSeries      4596\n",
       "tvShort           3507\n",
       "videoGame          186\n",
       "Name: titleType, dtype: int64"
      ]
     },
     "execution_count": 18,
     "metadata": {},
     "output_type": "execute_result"
    }
   ],
   "source": [
    "basics['titleType'].value_counts()"
   ]
  },
  {
   "cell_type": "code",
   "execution_count": 19,
   "id": "188e9cbb",
   "metadata": {},
   "outputs": [],
   "source": [
    "#Filtering by movie only.\n",
    "basics=basics[basics['titleType'].isin(['movie'])]"
   ]
  },
  {
   "cell_type": "code",
   "execution_count": 20,
   "id": "57857041",
   "metadata": {},
   "outputs": [
    {
     "data": {
      "text/plain": [
       "array(['movie'], dtype=object)"
      ]
     },
     "execution_count": 20,
     "metadata": {},
     "output_type": "execute_result"
    }
   ],
   "source": [
    "basics['titleType'].unique()"
   ]
  },
  {
   "cell_type": "code",
   "execution_count": 21,
   "id": "090697ea",
   "metadata": {},
   "outputs": [
    {
     "data": {
      "text/plain": [
       "2616"
      ]
     },
     "execution_count": 21,
     "metadata": {},
     "output_type": "execute_result"
    }
   ],
   "source": [
    "basics['startYear'].isna().sum()"
   ]
  },
  {
   "cell_type": "code",
   "execution_count": 22,
   "id": "9b2f327f",
   "metadata": {},
   "outputs": [],
   "source": [
    "#Dropping NaNs\n",
    "basics=basics.dropna(subset=['startYear'])"
   ]
  },
  {
   "cell_type": "code",
   "execution_count": 23,
   "id": "d370a2df",
   "metadata": {},
   "outputs": [
    {
     "data": {
      "text/plain": [
       "array(['1894', '1906', '1907', '1908', '1909', '1911', '1913', '1912',\n",
       "       '1919', '1914', '1915', '1936', '1916', '1917', '1925', '1918',\n",
       "       '1920', '1921', '1924', '1923', '1922', '1927', '1926', '1935',\n",
       "       '1929', '1928', '1942', '1930', '1932', '1931', '1937', '1950',\n",
       "       '1933', '1938', '1939', '1934', '1940', '1944', '1946', '1957',\n",
       "       '1943', '1941', '1948', '2001', '1945', '1953', '1954', '1983',\n",
       "       '1947', '1949', '1952', '1951', '1962', '1955', '1961', '1958',\n",
       "       '1956', '1959', '1960', '1963', '1965', '1971', '1964', '1969',\n",
       "       '1966', '1967', '1968', '1990', '1970', '1973', '1979', '1976',\n",
       "       '2020', '1978', '1972', '1989', '1974', '1975', '1981', '1986',\n",
       "       '1987', '2018', '1992', '1977', '1984', '1985', '1982', '1980',\n",
       "       '1993', '1988', '1991', '1995', '2005', '1998', '2002', '1997',\n",
       "       '2017', '2006', '1996', '1994', '2004', '1999', '2000', '2009',\n",
       "       '2008', '2007', '2022', '2003', '1903', '2011', '2021', '1910',\n",
       "       '2010', '2012', '2013', '2016', '2014', '2023', '2015', '2019',\n",
       "       '2024', '2025', '2026', '2029'], dtype=object)"
      ]
     },
     "execution_count": 23,
     "metadata": {},
     "output_type": "execute_result"
    }
   ],
   "source": [
    "basics['startYear'].unique()"
   ]
  },
  {
   "cell_type": "code",
   "execution_count": 24,
   "id": "1284eeff",
   "metadata": {},
   "outputs": [],
   "source": [
    "#Filtering by to 2000-2021, also to numeric.\n",
    "basics['startYear']=pd.to_numeric(basics['startYear'],errors='coerce')\n",
    "basics=basics[(basics['startYear']>=2000)&(basics['startYear']<=2021)]"
   ]
  },
  {
   "cell_type": "code",
   "execution_count": 25,
   "id": "e6980172",
   "metadata": {},
   "outputs": [
    {
     "data": {
      "text/plain": [
       "array([2001, 2020, 2018, 2005, 2002, 2017, 2006, 2004, 2000, 2009, 2008,\n",
       "       2007, 2003, 2011, 2021, 2010, 2012, 2013, 2016, 2014, 2015, 2019],\n",
       "      dtype=int64)"
      ]
     },
     "execution_count": 25,
     "metadata": {},
     "output_type": "execute_result"
    }
   ],
   "source": [
    "basics['startYear'].unique()"
   ]
  },
  {
   "cell_type": "code",
   "execution_count": 26,
   "id": "539f3959",
   "metadata": {},
   "outputs": [
    {
     "data": {
      "text/plain": [
       "Index(['titleId', 'ordering', 'title', 'region', 'language', 'types',\n",
       "       'attributes', 'isOriginalTitle'],\n",
       "      dtype='object')"
      ]
     },
     "execution_count": 26,
     "metadata": {},
     "output_type": "execute_result"
    }
   ],
   "source": [
    "akas.columns"
   ]
  },
  {
   "cell_type": "code",
   "execution_count": 27,
   "id": "a17ffc8c",
   "metadata": {},
   "outputs": [
    {
     "data": {
      "text/plain": [
       "array(['US'], dtype=object)"
      ]
     },
     "execution_count": 27,
     "metadata": {},
     "output_type": "execute_result"
    }
   ],
   "source": [
    "akas['region'].unique()"
   ]
  },
  {
   "cell_type": "code",
   "execution_count": 28,
   "id": "87737bad",
   "metadata": {},
   "outputs": [
    {
     "name": "stdout",
     "output_type": "stream",
     "text": [
      "<class 'pandas.core.frame.DataFrame'>\n",
      "Int64Index: 81891 entries, 34802 to 10011471\n",
      "Data columns (total 9 columns):\n",
      " #   Column          Non-Null Count  Dtype \n",
      "---  ------          --------------  ----- \n",
      " 0   tconst          81891 non-null  object\n",
      " 1   titleType       81891 non-null  object\n",
      " 2   primaryTitle    81891 non-null  object\n",
      " 3   originalTitle   81891 non-null  object\n",
      " 4   isAdult         81891 non-null  object\n",
      " 5   startYear       81891 non-null  int64 \n",
      " 6   endYear         0 non-null      object\n",
      " 7   runtimeMinutes  81891 non-null  object\n",
      " 8   genres          81891 non-null  object\n",
      "dtypes: int64(1), object(8)\n",
      "memory usage: 6.2+ MB\n"
     ]
    }
   ],
   "source": [
    "basics.info()"
   ]
  },
  {
   "cell_type": "code",
   "execution_count": 29,
   "id": "ca7f32d4",
   "metadata": {},
   "outputs": [
    {
     "name": "stdout",
     "output_type": "stream",
     "text": [
      "<class 'pandas.core.frame.DataFrame'>\n",
      "Int64Index: 1448458 entries, 5 to 36562697\n",
      "Data columns (total 8 columns):\n",
      " #   Column           Non-Null Count    Dtype \n",
      "---  ------           --------------    ----- \n",
      " 0   titleId          1448458 non-null  object\n",
      " 1   ordering         1448458 non-null  int64 \n",
      " 2   title            1448458 non-null  object\n",
      " 3   region           1448458 non-null  object\n",
      " 4   language         4012 non-null     object\n",
      " 5   types            981374 non-null   object\n",
      " 6   attributes       46995 non-null    object\n",
      " 7   isOriginalTitle  1448458 non-null  object\n",
      "dtypes: int64(1), object(7)\n",
      "memory usage: 99.5+ MB\n"
     ]
    }
   ],
   "source": [
    "akas.info()"
   ]
  },
  {
   "cell_type": "code",
   "execution_count": 30,
   "id": "cf795984",
   "metadata": {
    "scrolled": true
   },
   "outputs": [
    {
     "name": "stdout",
     "output_type": "stream",
     "text": [
      "<class 'pandas.core.frame.DataFrame'>\n",
      "Int64Index: 503723 entries, 0 to 1330816\n",
      "Data columns (total 3 columns):\n",
      " #   Column         Non-Null Count   Dtype  \n",
      "---  ------         --------------   -----  \n",
      " 0   tconst         503723 non-null  object \n",
      " 1   averageRating  503723 non-null  float64\n",
      " 2   numVotes       503723 non-null  int64  \n",
      "dtypes: float64(1), int64(1), object(1)\n",
      "memory usage: 15.4+ MB\n"
     ]
    }
   ],
   "source": [
    "ratings.info()"
   ]
  },
  {
   "cell_type": "markdown",
   "id": "87c31592",
   "metadata": {},
   "source": [
    "# Exporting to csv.gz"
   ]
  },
  {
   "cell_type": "code",
   "execution_count": 31,
   "id": "dea951fb",
   "metadata": {},
   "outputs": [
    {
     "data": {
      "text/plain": [
       "['API', 'tmdb_api_results_2000.json']"
      ]
     },
     "execution_count": 31,
     "metadata": {},
     "output_type": "execute_result"
    }
   ],
   "source": [
    "os.makedirs('Data/',exist_ok=True)\n",
    "os.listdir('Data/')"
   ]
  },
  {
   "cell_type": "code",
   "execution_count": 32,
   "id": "9b83fff5",
   "metadata": {},
   "outputs": [],
   "source": [
    "basics.to_csv('Data/basics_filtered.csv.gz', compression='gzip', index=False)\n",
    "akas.to_csv('Data/akas_filtered.csv.gz', compression='gzip', index=False)\n",
    "ratings.to_csv('Data/ratings_filtered.csv.gz', compression='gzip', index=False)"
   ]
  }
 ],
 "metadata": {
  "kernelspec": {
   "display_name": "Python (dojo-env)",
   "language": "python",
   "name": "dojo-env"
  },
  "language_info": {
   "codemirror_mode": {
    "name": "ipython",
    "version": 3
   },
   "file_extension": ".py",
   "mimetype": "text/x-python",
   "name": "python",
   "nbconvert_exporter": "python",
   "pygments_lexer": "ipython3",
   "version": "3.9.15"
  },
  "toc": {
   "base_numbering": 1,
   "nav_menu": {},
   "number_sections": true,
   "sideBar": true,
   "skip_h1_title": false,
   "title_cell": "Table of Contents",
   "title_sidebar": "Contents",
   "toc_cell": false,
   "toc_position": {},
   "toc_section_display": true,
   "toc_window_display": false
  }
 },
 "nbformat": 4,
 "nbformat_minor": 5
}
